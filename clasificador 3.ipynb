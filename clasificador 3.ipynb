{
 "cells": [
  {
   "cell_type": "code",
   "execution_count": 1,
   "id": "1fc6b6fd",
   "metadata": {},
   "outputs": [
    {
     "name": "stderr",
     "output_type": "stream",
     "text": [
      "c:\\Users\\Lenovo i5\\Documents\\MAESTRIA IA YACHAY TECH\\FUNDAMETOS DE INTELIGENCIA ARTIFICIAL\\.venv\\Lib\\site-packages\\sklearn\\neural_network\\_multilayer_perceptron.py:781: ConvergenceWarning: Stochastic Optimizer: Maximum iterations (200) reached and the optimization hasn't converged yet.\n",
      "  warnings.warn(\n"
     ]
    },
    {
     "data": {
      "text/plain": [
       "array([47, 52, 46, 47, 46, 46, 47, 47, 47, 47, 50, 47, 45, 40, 46, 47, 45,\n",
       "       49, 46, 46, 47, 48, 50, 47, 46, 46, 47, 47, 46, 46, 52, 47, 45, 47,\n",
       "       52, 48, 46, 52, 47, 52, 43, 47, 46, 45, 52, 40, 47, 47, 48, 46, 52,\n",
       "       52, 47, 47, 48, 52, 46, 47, 47, 43, 47, 47, 46, 49, 47, 40, 45, 48,\n",
       "       46, 52, 46, 52, 52, 46, 40, 47, 49, 46, 47, 47, 50, 47, 47, 42, 47,\n",
       "       46, 47, 47, 47, 46, 47, 46, 52, 42, 45, 46, 46, 48, 47, 47, 47, 45,\n",
       "       46, 47, 48, 44, 47, 47, 47, 46, 47, 45, 47, 47, 52, 47, 47, 48, 47,\n",
       "       46, 46, 46, 48, 47, 45, 47, 47, 47, 50, 46, 47, 45, 45, 52, 46, 46,\n",
       "       46, 49, 45, 47, 52, 47, 46, 48, 47, 47, 50, 45, 49, 47, 46, 47, 47,\n",
       "       46, 43, 40, 46, 45, 40, 45, 47, 52, 48, 45, 46, 45, 45, 46, 52, 49,\n",
       "       46, 50, 42, 46, 47, 46, 48, 46, 47, 46, 47, 40, 46, 47, 47, 47, 47,\n",
       "       47, 47, 44, 46, 46, 46])"
      ]
     },
     "execution_count": 1,
     "metadata": {},
     "output_type": "execute_result"
    }
   ],
   "source": [
    "# Importamos las librerías necesarias\n",
    "import numpy as np\n",
    "import matplotlib.pyplot as plt\n",
    "import pandas as pd\n",
    "from sklearn.model_selection import train_test_split\n",
    "from sklearn.preprocessing import LabelEncoder\n",
    "from sklearn.neural_network import MLPClassifier\n",
    "from sklearn.metrics import accuracy_score\n",
    "from sklearn.metrics import confusion_matrix\n",
    "from sklearn.metrics import classification_report\n",
    "from sklearn.preprocessing import StandardScaler\n",
    "\n",
    "# Cargamos el dataset diabetes.csv\n",
    "df = pd.read_excel('farmacias_con_clusters.xlsx')\n",
    "df = df.dropna()  # Eliminamos filas con valores nulos\n",
    "\n",
    "# Convertir con map\n",
    "mapping = {'PROPIA': 0, 'FRANQUICIA': 1}\n",
    "df['tipofarmacia'] = df['tipofarmacia'].map(mapping)\n",
    "\n",
    "mapping = {'ECONOMICAS': 0, 'MEDICITY': 1}\n",
    "df['sucursal'] = df['sucursal'].map(mapping)\n",
    "\n",
    "# Seleccionamos las columnas predictoras\n",
    "X = df.drop('perfil', axis=1)\n",
    "X = X.drop('farmacia', axis=1)\n",
    "X = X.drop('tipofarmacia', axis=1)\n",
    "X = X.drop('sucursal', axis=1)\n",
    "X = X.drop('cluster', axis=1)\n",
    "X.head()\n",
    "\n",
    "# Seleccionamos la columna diabetes como variable objetivo\n",
    "y = df['perfil']\n",
    "y.head()\n",
    "X\n",
    "\n",
    "scaler = StandardScaler()\n",
    "X_scaled = scaler.fit_transform(X)\n",
    "\n",
    "X_train, X_test, y_train, y_test = train_test_split(X_scaled, y, test_size=0.2)\n",
    "\n",
    "# Creamos un clasificador de tipo MLPClassifier con 2 capas ocultas de 100 neuronas cada una\n",
    "# Usamos la función de activación 'relu' y el optimizador 'adam'\n",
    "mlp = MLPClassifier(hidden_layer_sizes=(100, 100), activation='relu', solver='adam')\n",
    "\n",
    "# Usamos el método 'fit()' para entrenar el clasificador\n",
    "# Entrenamos el clasificador con los datos de entrenamiento 'X_train' y 'y_train'\n",
    "mlp.fit(X_train, y_train)\n",
    "\n",
    "# Predecimos las etiquetas de los datos de prueba 'X_test' usando el método 'predict()' del clasificador entrenado\n",
    "y_pred = mlp.predict(X_test)\n",
    "y_pred"
   ]
  },
  {
   "cell_type": "code",
   "execution_count": 2,
   "id": "d2775dd1",
   "metadata": {},
   "outputs": [
    {
     "data": {
      "application/vnd.microsoft.datawrangler.viewer.v0+json": {
       "columns": [
        {
         "name": "index",
         "rawType": "int64",
         "type": "integer"
        },
        {
         "name": "venta",
         "rawType": "float64",
         "type": "float"
        },
        {
         "name": "trx",
         "rawType": "int64",
         "type": "integer"
        },
        {
         "name": "nomina",
         "rawType": "int64",
         "type": "integer"
        }
       ],
       "ref": "f861e8a8-58f9-4fd7-8633-426d0c56928d",
       "rows": [
        [
         "0",
         "63026.876",
         "6949",
         "4"
        ],
        [
         "1",
         "61003.98569999996",
         "5700",
         "4"
        ],
        [
         "2",
         "47367.41349999999",
         "6742",
         "4"
        ],
        [
         "3",
         "44576.42000000001",
         "5601",
         "3"
        ],
        [
         "4",
         "42267.34649999998",
         "5182",
         "3"
        ]
       ],
       "shape": {
        "columns": 3,
        "rows": 5
       }
      },
      "text/html": [
       "<div>\n",
       "<style scoped>\n",
       "    .dataframe tbody tr th:only-of-type {\n",
       "        vertical-align: middle;\n",
       "    }\n",
       "\n",
       "    .dataframe tbody tr th {\n",
       "        vertical-align: top;\n",
       "    }\n",
       "\n",
       "    .dataframe thead th {\n",
       "        text-align: right;\n",
       "    }\n",
       "</style>\n",
       "<table border=\"1\" class=\"dataframe\">\n",
       "  <thead>\n",
       "    <tr style=\"text-align: right;\">\n",
       "      <th></th>\n",
       "      <th>venta</th>\n",
       "      <th>trx</th>\n",
       "      <th>nomina</th>\n",
       "    </tr>\n",
       "  </thead>\n",
       "  <tbody>\n",
       "    <tr>\n",
       "      <th>0</th>\n",
       "      <td>63026.8760</td>\n",
       "      <td>6949</td>\n",
       "      <td>4</td>\n",
       "    </tr>\n",
       "    <tr>\n",
       "      <th>1</th>\n",
       "      <td>61003.9857</td>\n",
       "      <td>5700</td>\n",
       "      <td>4</td>\n",
       "    </tr>\n",
       "    <tr>\n",
       "      <th>2</th>\n",
       "      <td>47367.4135</td>\n",
       "      <td>6742</td>\n",
       "      <td>4</td>\n",
       "    </tr>\n",
       "    <tr>\n",
       "      <th>3</th>\n",
       "      <td>44576.4200</td>\n",
       "      <td>5601</td>\n",
       "      <td>3</td>\n",
       "    </tr>\n",
       "    <tr>\n",
       "      <th>4</th>\n",
       "      <td>42267.3465</td>\n",
       "      <td>5182</td>\n",
       "      <td>3</td>\n",
       "    </tr>\n",
       "  </tbody>\n",
       "</table>\n",
       "</div>"
      ],
      "text/plain": [
       "        venta   trx  nomina\n",
       "0  63026.8760  6949       4\n",
       "1  61003.9857  5700       4\n",
       "2  47367.4135  6742       4\n",
       "3  44576.4200  5601       3\n",
       "4  42267.3465  5182       3"
      ]
     },
     "execution_count": 2,
     "metadata": {},
     "output_type": "execute_result"
    }
   ],
   "source": [
    "X.head()"
   ]
  },
  {
   "cell_type": "code",
   "execution_count": 3,
   "id": "af4f4aef",
   "metadata": {},
   "outputs": [
    {
     "data": {
      "text/plain": [
       "0.20207253886010362"
      ]
     },
     "execution_count": 3,
     "metadata": {},
     "output_type": "execute_result"
    }
   ],
   "source": [
    "# Calculamos la precisión del modelo de clasificación 'mlp' con el método 'accuracy_score' \n",
    "# Usamos los datos 'y_test' y 'y_pred' como argumentos de la función 'accuracy_score'\n",
    "# Guardamos el resultado en la variable 'accuracy'\n",
    "accuracy = accuracy_score(y_test, y_pred)\n",
    "accuracy"
   ]
  },
  {
   "cell_type": "code",
   "execution_count": 24,
   "id": "19c17554",
   "metadata": {},
   "outputs": [
    {
     "name": "stderr",
     "output_type": "stream",
     "text": [
      "c:\\Users\\Lenovo i5\\Documents\\MAESTRIA IA YACHAY TECH\\FUNDAMETOS DE INTELIGENCIA ARTIFICIAL\\.venv\\Lib\\site-packages\\sklearn\\utils\\validation.py:2749: UserWarning: X does not have valid feature names, but StandardScaler was fitted with feature names\n",
      "  warnings.warn(\n"
     ]
    },
    {
     "data": {
      "text/plain": [
       "array([47])"
      ]
     },
     "execution_count": 24,
     "metadata": {},
     "output_type": "execute_result"
    }
   ],
   "source": [
    "nuevo_pinguino = [ 36109, 2159, 2]\n",
    "pd.DataFrame([nuevo_pinguino])\n",
    "\n",
    "nuevo_pinguino = scaler.transform(pd.DataFrame([nuevo_pinguino]))\n",
    "\n",
    "# Hacemos una predicción de la especie del 'nuevo_pinguino' con el método 'predict' del modelo 'mlp'\n",
    "# Guardamos la predicción en la variable 'nueva_prediccion'\n",
    "nueva_prediccion = mlp.predict(nuevo_pinguino)\n",
    "nueva_prediccion\n"
   ]
  },
  {
   "cell_type": "code",
   "execution_count": 10,
   "id": "d3d8bee1",
   "metadata": {},
   "outputs": [],
   "source": [
    "import joblib\n",
    "# --- Guardar el modelo ---\n",
    "joblib.dump(mlp, \"mlp_model_3features.pkl\")\n",
    "\n",
    "# --- Cargar el modelo ---\n",
    "loaded_clf = joblib.load(\"mlp_model_3features.pkl\")"
   ]
  }
 ],
 "metadata": {
  "kernelspec": {
   "display_name": ".venv",
   "language": "python",
   "name": "python3"
  },
  "language_info": {
   "codemirror_mode": {
    "name": "ipython",
    "version": 3
   },
   "file_extension": ".py",
   "mimetype": "text/x-python",
   "name": "python",
   "nbconvert_exporter": "python",
   "pygments_lexer": "ipython3",
   "version": "3.12.1"
  }
 },
 "nbformat": 4,
 "nbformat_minor": 5
}
